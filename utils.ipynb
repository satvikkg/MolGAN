{
 "cells": [
  {
   "cell_type": "code",
   "execution_count": 1,
   "id": "3ee48f13",
   "metadata": {
    "ExecuteTime": {
     "end_time": "2022-04-29T09:30:57.740970Z",
     "start_time": "2022-04-29T09:30:55.393999Z"
    }
   },
   "outputs": [],
   "source": [
    "import os\n",
    "import time\n",
    "import shutil\n",
    "import subprocess\n",
    "import pandas as pd\n",
    "import multiprocessing\n",
    "from rdkit.Chem import Draw\n",
    "from natsort import natsorted\n",
    "from decimer import DECIMER as dc\n",
    "from joblib import Parallel, delayed\n",
    "from rdkit.Chem import PandasTools as pt"
   ]
  },
  {
   "cell_type": "code",
   "execution_count": 4,
   "id": "bd6ec3c0",
   "metadata": {},
   "outputs": [],
   "source": [
    "def SmilesToImage(path):\n",
    "    '''Function to convert SMILES in a csv with column mol to images.'''\n",
    "    start_time = time.time()\n",
    "    df = pd.read_csv(path)\n",
    "    pt.AddMoleculeColumnToFrame(df, smilesCol='mol')\n",
    "    gen_dir = f\"{os.path.split(path)[0]}/{os.path.splitext(os.path.basename(path))[0]}\"\n",
    "    print(f'{len(df)} Images saving to: {gen_dir}')\n",
    "    os.mkdir(gen_dir)\n",
    "    for mol, name in zip(df['ROMol'],df['NAME_']):\n",
    "        Draw.MolToFile(mol, f'{gen_dir}/{name}.png')\n",
    "    print(f'The time taken to generate images for {len(df)} moecules is:', time.time()-start_time,'seconds')    "
   ]
  },
  {
   "cell_type": "code",
   "execution_count": 5,
   "id": "71e68671",
   "metadata": {
    "ExecuteTime": {
     "end_time": "2022-04-29T09:31:00.151905Z",
     "start_time": "2022-04-29T09:30:59.569883Z"
    }
   },
   "outputs": [
    {
     "name": "stdout",
     "output_type": "stream",
     "text": [
      "200 Images saving to: /home/administrator/satvik/sandbox/molGAN/databases/dcm_random\n",
      "The time taken to generate images for 200 moecules is: 0.9935050010681152 seconds\n"
     ]
    }
   ],
   "source": [
    "SmilesToImage(\"/home/administrator/satvik/sandbox/molGAN/databases/dcm_random.csv\")"
   ]
  },
  {
   "cell_type": "code",
   "execution_count": 16,
   "id": "58c92caa",
   "metadata": {},
   "outputs": [],
   "source": [
    "def ImageToSmiles(folder_path):\n",
    "    '''Function to make a dataframe containing SMILES and Names for images in a folder.'''\n",
    "    start_time = time.time()\n",
    "    \n",
    "    def ImageConverter(self):\n",
    "        model_name = \"Canonical\"\n",
    "        smiles = dc.predict_SMILES(self,model_name)\n",
    "        global converted_images\n",
    "        converted_images = f'{os.path.splitext(os.path.basename(self))[0]},{smiles}'\n",
    "        return converted_images\n",
    "    \n",
    "    def Parallelizer(folder_path):\n",
    "        images_list = [os.path.abspath(os.path.join(folder_path, p)) for p in os.listdir(folder_path)]\n",
    "        global job\n",
    "        job = Parallel(n_jobs=(multiprocessing.cpu_count()-1))(delayed(ImageConverter)(images) for images in images_list)\n",
    "        return job\n",
    "    con_data = Parallelizer(folder_path)\n",
    "    \n",
    "    def MakeDataframe(con_data):\n",
    "        global con_df\n",
    "        con_df = pd.DataFrame([sub.split(\",\") for sub in natsorted(con_data)],columns=['Image_Name','SMILES'])\n",
    "        con_df.to_csv(f'{folder_path}/{os.path.basename(folder_path)}.csv',index=False)\n",
    "        return con_df\n",
    "    MakeDataframe(con_data)\n",
    "    \n",
    "    print(f\"The time taken to convert {len(con_data)} images is {time.time()-start_time} seconds\")"
   ]
  },
  {
   "cell_type": "code",
   "execution_count": 17,
   "id": "626eab3d",
   "metadata": {},
   "outputs": [
    {
     "name": "stdout",
     "output_type": "stream",
     "text": [
      "The time taken to convert 3 images is 7.4657862186431885 seconds\n"
     ]
    }
   ],
   "source": [
    "ImageToSmiles(\"/home/administrator/satvik/sandbox/molGAN/databases/dcm_random\")"
   ]
  },
  {
   "cell_type": "code",
   "execution_count": null,
   "id": "47b2bae3",
   "metadata": {},
   "outputs": [],
   "source": [
    "def SDFtoCanCSV(self):\n",
    "    start_time = time.time()\n",
    "    sdf = pt.LoadSDF(self)\n",
    "    sdf['can-smiles'] = [Chem.MolToSmiles(mol, isomericSmiles=False)for mol in sdf['ROMol']]\n",
    "    df = sdf.drop(['ROMol'],axis=1)\n",
    "    df.to_csv(f'{os.path.split(self)[0]}/{os.path.basename(self)}-can_smiles.csv',index=False)\n",
    "    print(f'Canonical SMILES have been written to \"can-smiles\" in the csv file for {len(df)} molecules.')\n",
    "    print(f'Time Taken: {time.time() - start_time} seconds')\n",
    "    return df"
   ]
  }
 ],
 "metadata": {
  "kernelspec": {
   "display_name": "Python 3 (ipykernel)",
   "language": "python",
   "name": "python3"
  },
  "language_info": {
   "codemirror_mode": {
    "name": "ipython",
    "version": 3
   },
   "file_extension": ".py",
   "mimetype": "text/x-python",
   "name": "python",
   "nbconvert_exporter": "python",
   "pygments_lexer": "ipython3",
   "version": "3.10.4"
  }
 },
 "nbformat": 4,
 "nbformat_minor": 5
}
