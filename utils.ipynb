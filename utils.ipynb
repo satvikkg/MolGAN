{
 "cells": [
  {
   "cell_type": "code",
   "execution_count": 1,
   "id": "3ee48f13",
   "metadata": {
    "ExecuteTime": {
     "end_time": "2022-04-29T09:30:57.740970Z",
     "start_time": "2022-04-29T09:30:55.393999Z"
    }
   },
   "outputs": [],
   "source": [
    "import os\n",
    "import time\n",
    "import subprocess\n",
    "import shutil\n",
    "import pandas as pd\n",
    "from rdkit.Chem import PandasTools as pt\n",
    "from rdkit.Chem import Draw\n",
    "from decimer import DECIMER as dc\n",
    "from joblib import Parallel, delayed\n",
    "import time\n",
    "import multiprocessing\n",
    "from natsort import natsorted"
   ]
  },
  {
   "cell_type": "code",
   "execution_count": 2,
   "id": "076b3760",
   "metadata": {
    "ExecuteTime": {
     "end_time": "2022-04-29T09:30:57.749351Z",
     "start_time": "2022-04-29T09:30:57.743385Z"
    }
   },
   "outputs": [],
   "source": [
    "def SmilesToImage(path):\n",
    "    '''Function to convert SMILES in a csv with column mol to images.'''\n",
    "    start_time = time.time()\n",
    "    df = pd.read_csv(path)\n",
    "    pt.AddMoleculeColumnToFrame(df, smilesCol='mol')\n",
    "    split_path = os.path.split(path)\n",
    "    gen_dir = f\"{split_path[0]}/gen_images\"\n",
    "    print(f'Images saving to: {gen_dir}')\n",
    "    os.mkdir(gen_dir)\n",
    "    count = 1\n",
    "    for mol in df['ROMol']:\n",
    "        name = f\"{gen_dir}/test_{count}.png\"\n",
    "        Draw.MolToFile(mol, name)\n",
    "        count = count + 1\n",
    "    print(f'The time taken to generate images for {len(df)} moecules is:', time.time()-start_time,'seconds')    "
   ]
  },
  {
   "cell_type": "code",
   "execution_count": 3,
   "id": "71e68671",
   "metadata": {
    "ExecuteTime": {
     "end_time": "2022-04-29T09:31:00.151905Z",
     "start_time": "2022-04-29T09:30:59.569883Z"
    }
   },
   "outputs": [
    {
     "name": "stdout",
     "output_type": "stream",
     "text": [
      "Images saving to: /home/administrator/satvik/sandbox/molGAN/gen_images\n",
      "The time taken to generate images for 200 moecules is: 0.7801647186279297 seconds\n"
     ]
    }
   ],
   "source": [
    "SmilesToImage(\"/home/administrator/satvik/sandbox/molGAN/dcm_random.csv\")"
   ]
  },
  {
   "cell_type": "code",
   "execution_count": 4,
   "id": "ad7bb919",
   "metadata": {},
   "outputs": [],
   "source": [
    "def ImageToSmiles_helper(self):\n",
    "    model_name = \"Canonical\"\n",
    "    smiles = dc.predict_SMILES(self,model_name)\n",
    "    return f'{os.path.basename(self)},{smiles}'"
   ]
  },
  {
   "cell_type": "code",
   "execution_count": 5,
   "id": "b0645090",
   "metadata": {},
   "outputs": [],
   "source": [
    "def ImageToSmiles(folder_path):\n",
    "    images_list = [os.path.abspath(os.path.join(folder_path, p)) for p in os.listdir(folder_path)]\n",
    "    output = Parallel(n_jobs=(multiprocessing.cpu_count()-1))(delayed(ImageToSmiles_helper)(images) for images in images_list)\n",
    "    return output"
   ]
  },
  {
   "cell_type": "code",
   "execution_count": 6,
   "id": "d9cb47b6",
   "metadata": {},
   "outputs": [
    {
     "name": "stdout",
     "output_type": "stream",
     "text": [
      "The time taken to generate smiles from images is: 281.4844722747803 seconds\n"
     ]
    }
   ],
   "source": [
    "start_time = time.time()\n",
    "set1 = ImageToSmiles(\"/home/administrator/satvik/sandbox/molGAN/gen_images\")\n",
    "print(f'The time taken to generate smiles from images is:', time.time()-start_time,'seconds')"
   ]
  },
  {
   "cell_type": "code",
   "execution_count": 7,
   "id": "76ec7ec6",
   "metadata": {},
   "outputs": [],
   "source": [
    "set1df = pd.DataFrame([sub.split(\",\") for sub in natsorted(set1)],columns=['Image_Name','SMILES'])\n",
    "set1df.to_csv('gen_images-converted.csv',index=False)"
   ]
  },
  {
   "cell_type": "code",
   "execution_count": 8,
   "id": "d27bb521",
   "metadata": {},
   "outputs": [
    {
     "ename": "AttributeError",
     "evalue": "module 'pandas.io.formats.format' has no attribute '_get_adjustment'",
     "output_type": "error",
     "traceback": [
      "\u001b[0;31m---------------------------------------------------------------------------\u001b[0m",
      "\u001b[0;31mAttributeError\u001b[0m                            Traceback (most recent call last)",
      "File \u001b[0;32m~/anaconda3/envs/molGAN/lib/python3.9/site-packages/IPython/core/formatters.py:343\u001b[0m, in \u001b[0;36mBaseFormatter.__call__\u001b[0;34m(self, obj)\u001b[0m\n\u001b[1;32m    341\u001b[0m     method \u001b[38;5;241m=\u001b[39m get_real_method(obj, \u001b[38;5;28mself\u001b[39m\u001b[38;5;241m.\u001b[39mprint_method)\n\u001b[1;32m    342\u001b[0m     \u001b[38;5;28;01mif\u001b[39;00m method \u001b[38;5;129;01mis\u001b[39;00m \u001b[38;5;129;01mnot\u001b[39;00m \u001b[38;5;28;01mNone\u001b[39;00m:\n\u001b[0;32m--> 343\u001b[0m         \u001b[38;5;28;01mreturn\u001b[39;00m \u001b[43mmethod\u001b[49m\u001b[43m(\u001b[49m\u001b[43m)\u001b[49m\n\u001b[1;32m    344\u001b[0m     \u001b[38;5;28;01mreturn\u001b[39;00m \u001b[38;5;28;01mNone\u001b[39;00m\n\u001b[1;32m    345\u001b[0m \u001b[38;5;28;01melse\u001b[39;00m:\n",
      "File \u001b[0;32m~/anaconda3/envs/molGAN/lib/python3.9/site-packages/rdkit/Chem/PandasTools.py:201\u001b[0m, in \u001b[0;36mpatchPandasrepr\u001b[0;34m(self, **kwargs)\u001b[0m\n\u001b[1;32m    199\u001b[0m defHTMLFormatter_write_cell \u001b[38;5;241m=\u001b[39m pandas\u001b[38;5;241m.\u001b[39mio\u001b[38;5;241m.\u001b[39mformats\u001b[38;5;241m.\u001b[39mhtml\u001b[38;5;241m.\u001b[39mHTMLFormatter\u001b[38;5;241m.\u001b[39m_write_cell\n\u001b[1;32m    200\u001b[0m pandas\u001b[38;5;241m.\u001b[39mio\u001b[38;5;241m.\u001b[39mformats\u001b[38;5;241m.\u001b[39mhtml\u001b[38;5;241m.\u001b[39mHTMLFormatter\u001b[38;5;241m.\u001b[39m_write_cell \u001b[38;5;241m=\u001b[39m _patched_HTMLFormatter_write_cell\n\u001b[0;32m--> 201\u001b[0m defPandasGetAdjustment \u001b[38;5;241m=\u001b[39m \u001b[43mpandas\u001b[49m\u001b[38;5;241;43m.\u001b[39;49m\u001b[43mio\u001b[49m\u001b[38;5;241;43m.\u001b[39;49m\u001b[43mformats\u001b[49m\u001b[38;5;241;43m.\u001b[39;49m\u001b[43mformat\u001b[49m\u001b[38;5;241;43m.\u001b[39;49m\u001b[43m_get_adjustment\u001b[49m\n\u001b[1;32m    202\u001b[0m pandas\u001b[38;5;241m.\u001b[39mio\u001b[38;5;241m.\u001b[39mformats\u001b[38;5;241m.\u001b[39mformat\u001b[38;5;241m.\u001b[39m_get_adjustment \u001b[38;5;241m=\u001b[39m _patched_get_adjustment\n\u001b[1;32m    203\u001b[0m res \u001b[38;5;241m=\u001b[39m defPandasRepr(\u001b[38;5;28mself\u001b[39m, \u001b[38;5;241m*\u001b[39m\u001b[38;5;241m*\u001b[39mkwargs)\n",
      "\u001b[0;31mAttributeError\u001b[0m: module 'pandas.io.formats.format' has no attribute '_get_adjustment'"
     ]
    },
    {
     "data": {
      "text/plain": [
       "       Image_Name                                         SMILES\n",
       "0      test_1.png      O=C(NCCC2=NC=1C=CC=CC=1N2CCC#C)C=3OC=CC=3\n",
       "1      test_2.png  O=C(N)C(=CC)C(P1C2C=CC=CC1CC2)CCCC3C=CC=CCCC3\n",
       "2      test_3.png   FC(I)=CC=C2C(=CC=C1C=CCC1)CCN2C3=CC=C(O)C=C3\n",
       "3      test_4.png  O=C2OC1C=CC=CC=C1N2CCC(=O)NC3=CC=C(CI)C(I)=C3\n",
       "4      test_5.png     O=C(O)CC=1C=CC=CC=1N2C=CC3=CC2S(=O)(=O)N3C\n",
       "..            ...                                            ...\n",
       "195  test_196.png         O=C(N2C1=CC=CC=CC=C1CC2)CC3C=CC=CCC3NC\n",
       "196  test_197.png   C=1C=CC(=CC=1)CCC2CC(C)C2(C)CCC=3C=CC=CC=3CC\n",
       "197  test_198.png    S=C2C(NC=1C=CC=CC=1CC)=C(N)N2CC=3C=CC=CC=3I\n",
       "198  test_199.png      O=C(C=1C=CC=CC=1)C3CCCC=2C=CC=CC=2P3(=O)C\n",
       "199  test_200.png      O=CC=1C=CC=CC=1C=3C(NC)=CC2=CC=CC=C2NC=3C\n",
       "\n",
       "[200 rows x 2 columns]"
      ]
     },
     "execution_count": 8,
     "metadata": {},
     "output_type": "execute_result"
    }
   ],
   "source": [
    "set1df"
   ]
  },
  {
   "cell_type": "code",
   "execution_count": null,
   "id": "32720050",
   "metadata": {},
   "outputs": [],
   "source": []
  }
 ],
 "metadata": {
  "kernelspec": {
   "display_name": "Python 3 (ipykernel)",
   "language": "python",
   "name": "python3"
  },
  "language_info": {
   "codemirror_mode": {
    "name": "ipython",
    "version": 3
   },
   "file_extension": ".py",
   "mimetype": "text/x-python",
   "name": "python",
   "nbconvert_exporter": "python",
   "pygments_lexer": "ipython3",
   "version": "3.9.0"
  }
 },
 "nbformat": 4,
 "nbformat_minor": 5
}
