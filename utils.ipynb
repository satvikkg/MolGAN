{
 "cells": [
  {
   "cell_type": "code",
   "execution_count": 1,
   "id": "3ee48f13",
   "metadata": {
    "ExecuteTime": {
     "end_time": "2022-04-29T09:30:57.740970Z",
     "start_time": "2022-04-29T09:30:55.393999Z"
    }
   },
   "outputs": [],
   "source": [
    "import os\n",
    "import time\n",
    "import subprocess\n",
    "import shutil\n",
    "import pandas as pd\n",
    "from rdkit.Chem import PandasTools as pt\n",
    "from rdkit.Chem import Draw\n",
    "from decimer import DECIMER as dc\n",
    "import multiprocessing"
   ]
  },
  {
   "cell_type": "code",
   "execution_count": 2,
   "id": "076b3760",
   "metadata": {
    "ExecuteTime": {
     "end_time": "2022-04-29T09:30:57.749351Z",
     "start_time": "2022-04-29T09:30:57.743385Z"
    }
   },
   "outputs": [],
   "source": [
    "def SmilesToImage(path):\n",
    "    '''Function to convert SMILES in a csv with column mol to images.'''\n",
    "    start_time = time.time()\n",
    "    df = pd.read_csv(path)\n",
    "    pt.AddMoleculeColumnToFrame(df, smilesCol='mol')\n",
    "    split_path = os.path.split(path)\n",
    "    gen_dir = f\"{split_path[0]}/gen_images\"\n",
    "    print(f'Images saving to: {gen_dir}')\n",
    "    os.mkdir(gen_dir)\n",
    "    count = 1\n",
    "    for mol in df['ROMol']:\n",
    "        name = f\"{gen_dir}/test_{count}.png\"\n",
    "        Draw.MolToFile(mol, name)\n",
    "        count = count + 1\n",
    "    print(f'The time taken to generate images for {len(df)} moecules is:', time.time()-start_time,'seconds')    "
   ]
  },
  {
   "cell_type": "code",
   "execution_count": 3,
   "id": "71e68671",
   "metadata": {
    "ExecuteTime": {
     "end_time": "2022-04-29T09:31:00.151905Z",
     "start_time": "2022-04-29T09:30:59.569883Z"
    }
   },
   "outputs": [
    {
     "name": "stdout",
     "output_type": "stream",
     "text": [
      "Images saving to: /home2/satvik/ml_dl/molGAN/scripts/gen_images\n"
     ]
    },
    {
     "ename": "FileExistsError",
     "evalue": "[Errno 17] File exists: '/home2/satvik/ml_dl/molGAN/scripts/gen_images'",
     "output_type": "error",
     "traceback": [
      "\u001b[0;31m---------------------------------------------------------------------------\u001b[0m",
      "\u001b[0;31mFileExistsError\u001b[0m                           Traceback (most recent call last)",
      "Input \u001b[0;32mIn [3]\u001b[0m, in \u001b[0;36m<cell line: 1>\u001b[0;34m()\u001b[0m\n\u001b[0;32m----> 1\u001b[0m \u001b[43mSmilesToImage\u001b[49m\u001b[43m(\u001b[49m\u001b[38;5;124;43m\"\u001b[39;49m\u001b[38;5;124;43m/home2/satvik/ml_dl/molGAN/scripts/dcm_random.csv\u001b[39;49m\u001b[38;5;124;43m\"\u001b[39;49m\u001b[43m)\u001b[49m\n",
      "Input \u001b[0;32mIn [2]\u001b[0m, in \u001b[0;36mSmilesToImage\u001b[0;34m(path)\u001b[0m\n\u001b[1;32m      7\u001b[0m gen_dir \u001b[38;5;241m=\u001b[39m \u001b[38;5;124mf\u001b[39m\u001b[38;5;124m\"\u001b[39m\u001b[38;5;132;01m{\u001b[39;00msplit_path[\u001b[38;5;241m0\u001b[39m]\u001b[38;5;132;01m}\u001b[39;00m\u001b[38;5;124m/gen_images\u001b[39m\u001b[38;5;124m\"\u001b[39m\n\u001b[1;32m      8\u001b[0m \u001b[38;5;28mprint\u001b[39m(\u001b[38;5;124mf\u001b[39m\u001b[38;5;124m'\u001b[39m\u001b[38;5;124mImages saving to: \u001b[39m\u001b[38;5;132;01m{\u001b[39;00mgen_dir\u001b[38;5;132;01m}\u001b[39;00m\u001b[38;5;124m'\u001b[39m)\n\u001b[0;32m----> 9\u001b[0m \u001b[43mos\u001b[49m\u001b[38;5;241;43m.\u001b[39;49m\u001b[43mmkdir\u001b[49m\u001b[43m(\u001b[49m\u001b[43mgen_dir\u001b[49m\u001b[43m)\u001b[49m\n\u001b[1;32m     10\u001b[0m count \u001b[38;5;241m=\u001b[39m \u001b[38;5;241m1\u001b[39m\n\u001b[1;32m     11\u001b[0m \u001b[38;5;28;01mfor\u001b[39;00m mol \u001b[38;5;129;01min\u001b[39;00m df[\u001b[38;5;124m'\u001b[39m\u001b[38;5;124mROMol\u001b[39m\u001b[38;5;124m'\u001b[39m]:\n",
      "\u001b[0;31mFileExistsError\u001b[0m: [Errno 17] File exists: '/home2/satvik/ml_dl/molGAN/scripts/gen_images'"
     ]
    }
   ],
   "source": [
    "SmilesToImage(\"/home2/satvik/ml_dl/molGAN/scripts/dcm_random.csv\")"
   ]
  },
  {
   "cell_type": "code",
   "execution_count": 4,
   "id": "632942fb",
   "metadata": {
    "ExecuteTime": {
     "end_time": "2022-04-29T09:31:02.028632Z",
     "start_time": "2022-04-29T09:31:02.019242Z"
    }
   },
   "outputs": [],
   "source": [
    "def ImageToSmiles(path):\n",
    "    '''Function to convert images in a given path to SMILES.'''\n",
    "    start_time = time.time()\n",
    "    list_of_images = sorted(os.listdir(path))\n",
    "    list_of_smiles = []\n",
    "    for img in list_of_images:\n",
    "        model_name = \"Canonical\"\n",
    "        smiles = dc.predict_SMILES(img,model_name)\n",
    "        list_of_smiles.append(smiles)\n",
    "\n",
    "    df = pd.DataFrame()\n",
    "    df['Image_Name'] = pd.DataFrame(list_of_images)\n",
    "    df['SMILES'] = pd.DataFrame(list_of_smiles)\n",
    "    df.to_csv(f\"{path}/ImageToSmiles.csv\", index=False)\n",
    "    print(f'The time taken to generate smiles from images for {len(df)} molecules is:', time.time()-start_time,'seconds')"
   ]
  },
  {
   "cell_type": "code",
   "execution_count": 5,
   "id": "d54c211d",
   "metadata": {
    "ExecuteTime": {
     "end_time": "2022-04-29T09:31:03.813777Z",
     "start_time": "2022-04-29T09:31:03.809238Z"
    }
   },
   "outputs": [],
   "source": [
    "#ImageToSmiles(\"/home2/satvik/ml_dl/molGAN/scripts/gen_images2\")"
   ]
  },
  {
   "cell_type": "code",
   "execution_count": 6,
   "id": "d4e9c35c",
   "metadata": {
    "ExecuteTime": {
     "end_time": "2022-04-29T09:31:05.156131Z",
     "start_time": "2022-04-29T09:31:05.138343Z"
    }
   },
   "outputs": [
    {
     "data": {
      "text/plain": [
       "\"def ImageToSmilesM(fpath,processors):\\n    '''Multiprocessor version of ImageToSmiles'''\\n    processes = []\\n    for _ in range(processors):\\n        p = multiprocessing.Process(target=ImageToSmiles, args=(fpath,))\\n        p.start()\\n        processes.append(p)\\n\\n    for process in processes:\\n        process.join()\""
      ]
     },
     "execution_count": 6,
     "metadata": {},
     "output_type": "execute_result"
    }
   ],
   "source": [
    "\"\"\"def ImageToSmilesM(fpath,processors):\n",
    "    '''Multiprocessor version of ImageToSmiles'''\n",
    "    processes = []\n",
    "    for _ in range(processors):\n",
    "        p = multiprocessing.Process(target=ImageToSmiles, args=(fpath,))\n",
    "        p.start()\n",
    "        processes.append(p)\n",
    "\n",
    "    for process in processes:\n",
    "        process.join()\"\"\""
   ]
  },
  {
   "cell_type": "code",
   "execution_count": 7,
   "id": "4f5992b5",
   "metadata": {
    "ExecuteTime": {
     "end_time": "2022-04-29T09:31:06.614355Z",
     "start_time": "2022-04-29T09:31:06.610206Z"
    }
   },
   "outputs": [],
   "source": [
    "#ImageToSmilesM(\"/home2/satvik/ml_dl/molGAN/scripts/gen_images2\",2)"
   ]
  },
  {
   "cell_type": "code",
   "execution_count": 19,
   "id": "97fb0642",
   "metadata": {
    "ExecuteTime": {
     "end_time": "2022-04-29T09:48:20.391046Z",
     "start_time": "2022-04-29T09:48:20.385327Z"
    }
   },
   "outputs": [
    {
     "name": "stdout",
     "output_type": "stream",
     "text": [
      "['test_1.png', 'test_10.png', 'test_2.png', 'test_3.png', 'test_4.png', 'test_5.png', 'test_6.png', 'test_7.png', 'test_8.png', 'test_9.png']\n"
     ]
    }
   ],
   "source": [
    "files = sorted(os.listdir(\"/home2/satvik/ml_dl/molGAN/scripts/gen_images2\"))\n",
    "print(files)"
   ]
  },
  {
   "cell_type": "code",
   "execution_count": null,
   "id": "1153252f",
   "metadata": {},
   "outputs": [],
   "source": [
    "import cobcurrent.futures\n",
    "for image\n",
    "\n",
    "def test(image_name):\n",
    "    model_name = \"Canonical\"\n",
    "    smiles = dc.predict_SMILES(img_name,model_name)\n",
    "    list_of_smiles.append(smiles)\n",
    "\n",
    "with concurrent.futures.ProcessPoolExecutor() as executor:\n",
    "    executor.map(test, images)"
   ]
  }
 ],
 "metadata": {
  "kernelspec": {
   "display_name": "Python 3 (ipykernel)",
   "language": "python",
   "name": "python3"
  },
  "language_info": {
   "codemirror_mode": {
    "name": "ipython",
    "version": 3
   },
   "file_extension": ".py",
   "mimetype": "text/x-python",
   "name": "python",
   "nbconvert_exporter": "python",
   "pygments_lexer": "ipython3",
   "version": "3.10.4"
  }
 },
 "nbformat": 4,
 "nbformat_minor": 5
}
