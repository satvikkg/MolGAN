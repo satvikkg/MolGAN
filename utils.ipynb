{
 "cells": [
  {
   "cell_type": "code",
   "execution_count": 1,
   "id": "3ee48f13",
   "metadata": {
    "ExecuteTime": {
     "end_time": "2022-04-29T09:30:57.740970Z",
     "start_time": "2022-04-29T09:30:55.393999Z"
    }
   },
   "outputs": [],
   "source": [
    "import os\n",
    "import time\n",
    "import shutil\n",
    "import subprocess\n",
    "import pandas as pd\n",
    "import multiprocessing\n",
    "from rdkit.Chem import Draw\n",
    "from natsort import natsorted\n",
    "from decimer import DECIMER as dc\n",
    "from joblib import Parallel, delayed\n",
    "from rdkit.Chem import PandasTools as pt"
   ]
  },
  {
   "cell_type": "code",
   "execution_count": 2,
   "id": "bd6ec3c0",
   "metadata": {},
   "outputs": [],
   "source": [
    "def SmilesToImage(path):\n",
    "    '''Function to convert SMILES in a csv with column mol to images.'''\n",
    "    start_time = time.time()\n",
    "    df = pd.read_csv(path)\n",
    "    pt.AddMoleculeColumnToFrame(df, smilesCol='mol')\n",
    "    split_path = os.path.split(path)\n",
    "    gen_dir = f\"{split_path[0]}/{os.path.splitext(os.path.basename(path))[0]}\"\n",
    "    print(f'{len(df)} Images saving to: {gen_dir}')\n",
    "    os.mkdir(gen_dir)\n",
    "    for mol, name in zip(df['ROMol'],df['NAME_']):\n",
    "        Draw.MolToFile(mol, f'{gen_dir}/{name}.png')\n",
    "    print(f'The time taken to generate images for {len(df)} moecules is:', time.time()-start_time,'seconds')    "
   ]
  },
  {
   "cell_type": "code",
   "execution_count": 3,
   "id": "71e68671",
   "metadata": {
    "ExecuteTime": {
     "end_time": "2022-04-29T09:31:00.151905Z",
     "start_time": "2022-04-29T09:30:59.569883Z"
    }
   },
   "outputs": [
    {
     "name": "stdout",
     "output_type": "stream",
     "text": [
      "200 Images saving to: /home/administrator/satvik/sandbox/molGAN/databases/dcm_random\n",
      "The time taken to generate images for 200 moecules is: 0.9939827919006348 seconds\n"
     ]
    }
   ],
   "source": [
    "SmilesToImage(\"/home/administrator/satvik/sandbox/molGAN/databases/dcm_random.csv\")"
   ]
  },
  {
   "cell_type": "code",
   "execution_count": 4,
   "id": "b43b41e1",
   "metadata": {},
   "outputs": [],
   "source": [
    "def ImageToSmiles(folder_path):\n",
    "    '''Function to make a dataframe containing SMILES and Names for images in a folder.'''\n",
    "    start_time = time.time()\n",
    "    def ImageConverter(self):\n",
    "        model_name = \"Canonical\"\n",
    "        smiles = dc.predict_SMILES(self,model_name)\n",
    "        global converted_images\n",
    "        converted_images = f'{os.path.splitext(os.path.basename(self))[0]},{smiles}'\n",
    "        return converted_images\n",
    "    def Parallelizer(folder_path):\n",
    "        images_list = [os.path.abspath(os.path.join(folder_path, p)) for p in os.listdir(folder_path)]\n",
    "        global job\n",
    "        job = Parallel(n_jobs=(multiprocessing.cpu_count()-1))(delayed(ImageConverter)(images) for images in images_list)\n",
    "        return job\n",
    "    set1 = Parallelizer(folder_path)\n",
    "    def MakeDataframe(set1):\n",
    "        global set1df\n",
    "        set1df = pd.DataFrame([sub.split(\",\") for sub in natsorted(set1)],columns=['Image_Name','SMILES'])\n",
    "        set1df.to_csv(f'{folder_path}/{os.path.basename(folder_path)}.csv',index=False)\n",
    "        return set1df\n",
    "    MakeDataframe(set1)\n",
    "    print(f\"The time taken to convert {len(set1df)} images is {time.time()-start_time}\")"
   ]
  },
  {
   "cell_type": "code",
   "execution_count": 5,
   "id": "b2403cff",
   "metadata": {},
   "outputs": [
    {
     "name": "stdout",
     "output_type": "stream",
     "text": [
      "The time taken to convert 200 images is 327.1185827255249\n"
     ]
    }
   ],
   "source": [
    "ImageToSmiles(\"/home/administrator/satvik/sandbox/molGAN/databases/dcm_random\")"
   ]
  },
  {
   "cell_type": "code",
   "execution_count": null,
   "id": "c3376351",
   "metadata": {},
   "outputs": [],
   "source": []
  }
 ],
 "metadata": {
  "kernelspec": {
   "display_name": "Python 3 (ipykernel)",
   "language": "python",
   "name": "python3"
  },
  "language_info": {
   "codemirror_mode": {
    "name": "ipython",
    "version": 3
   },
   "file_extension": ".py",
   "mimetype": "text/x-python",
   "name": "python",
   "nbconvert_exporter": "python",
   "pygments_lexer": "ipython3",
   "version": "3.10.4"
  }
 },
 "nbformat": 4,
 "nbformat_minor": 5
}
